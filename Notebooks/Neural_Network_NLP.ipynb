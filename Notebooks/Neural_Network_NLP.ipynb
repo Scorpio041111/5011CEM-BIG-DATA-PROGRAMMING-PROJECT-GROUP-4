{
 "cells": [
  {
   "cell_type": "code",
   "execution_count": 1,
   "id": "2e543333-fd03-4408-bb6b-df48873daaa0",
   "metadata": {},
   "outputs": [],
   "source": [
    "import pandas as pd\n",
    "from sklearn.neural_network import MLPClassifier\n",
    "from sklearn.model_selection import train_test_split\n",
    "from sklearn.metrics import accuracy_score, confusion_matrix, classification_report\n",
    "import numpy as np"
   ]
  },
  {
   "cell_type": "code",
   "execution_count": 3,
   "id": "4b0c4e3b-6b67-485f-b060-98589ce9bd76",
   "metadata": {},
   "outputs": [],
   "source": [
    "# Read dataset\n",
    "df = pd.read_excel(\"C:/Users/User/data/Cleaned_Dataset_v2.xlsx\")"
   ]
  },
  {
   "cell_type": "code",
   "execution_count": 7,
   "id": "8aaf0882-8487-4171-8304-8b17fcda3112",
   "metadata": {},
   "outputs": [],
   "source": [
    "# View numeric columns\n",
    "df = df.select_dtypes(include=[np.number])"
   ]
  },
  {
   "cell_type": "code",
   "execution_count": 8,
   "id": "724c54bf-aaf7-4576-b4a5-93eab442f124",
   "metadata": {},
   "outputs": [],
   "source": [
    "# Set the target column name\n",
    "target_col = 'HadHeartAttack'  # target column"
   ]
  },
  {
   "cell_type": "code",
   "execution_count": 9,
   "id": "fb07eeef-599e-4a2c-995f-c9f501cf5431",
   "metadata": {},
   "outputs": [
    {
     "name": "stdout",
     "output_type": "stream",
     "text": [
      "Accuracy: 0.9475892655592293\n",
      "Confusion Matrix:\n",
      " [[70900   303]\n",
      " [ 3644   462]]\n",
      "Classification Report:\n",
      "               precision    recall  f1-score   support\n",
      "\n",
      "           0       0.95      1.00      0.97     71203\n",
      "           1       0.60      0.11      0.19      4106\n",
      "\n",
      "    accuracy                           0.95     75309\n",
      "   macro avg       0.78      0.55      0.58     75309\n",
      "weighted avg       0.93      0.95      0.93     75309\n",
      "\n"
     ]
    }
   ],
   "source": [
    "# Check if target column exists\n",
    "if target_col in df.columns:\n",
    "    # Split features and target\n",
    "    X = df.drop(columns=[target_col])\n",
    "    y = df[target_col]\n",
    "\n",
    "    # Train-test split\n",
    "    X_train, X_test, y_train, y_test = train_test_split(\n",
    "        X, y, test_size=0.3, random_state=42\n",
    "    )\n",
    "\n",
    "    # Train the model\n",
    "    model = MLPClassifier(hidden_layer_sizes=(100,), max_iter=300, random_state=42)\n",
    "    model.fit(X_train, y_train)\n",
    "\n",
    "    # Predict\n",
    "    y_pred = model.predict(X_test)\n",
    "\n",
    "    # Evaluate\n",
    "    acc = accuracy_score(y_test, y_pred)\n",
    "    cm = confusion_matrix(y_test, y_pred)\n",
    "    report = classification_report(y_test, y_pred)\n",
    "\n",
    "    # Show results\n",
    "    print(\"Accuracy:\", acc)\n",
    "    print(\"Confusion Matrix:\\n\", cm)\n",
    "    print(\"Classification Report:\\n\", report)\n",
    "else:\n",
    "    print(f\"Target column '{target_col}' not found in the DataFrame.\")"
   ]
  },
  {
   "cell_type": "code",
   "execution_count": null,
   "id": "bf0f9a8d-8ab2-49f8-ad2c-1c69bb50dcd2",
   "metadata": {},
   "outputs": [],
   "source": []
  }
 ],
 "metadata": {
  "kernelspec": {
   "display_name": "Python [conda env:base] *",
   "language": "python",
   "name": "conda-base-py"
  },
  "language_info": {
   "codemirror_mode": {
    "name": "ipython",
    "version": 3
   },
   "file_extension": ".py",
   "mimetype": "text/x-python",
   "name": "python",
   "nbconvert_exporter": "python",
   "pygments_lexer": "ipython3",
   "version": "3.13.5"
  }
 },
 "nbformat": 4,
 "nbformat_minor": 5
}
