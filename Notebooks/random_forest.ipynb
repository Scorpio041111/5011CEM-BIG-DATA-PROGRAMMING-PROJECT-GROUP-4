{
 "cells": [
  {
   "cell_type": "code",
   "execution_count": 2,
   "id": "cccf4de8-8d11-40a1-b69a-c55fe5e51c2c",
   "metadata": {},
   "outputs": [
    {
     "name": "stdout",
     "output_type": "stream",
     "text": [
      "Accuracy: 0.9459427160100387\n",
      "Confusion Matrix:\n",
      "[[70553   633]\n",
      " [ 3438   685]]\n",
      "Classification Report:\n",
      "              precision    recall  f1-score   support\n",
      "\n",
      "           0       0.95      0.99      0.97     71186\n",
      "           1       0.52      0.17      0.25      4123\n",
      "\n",
      "    accuracy                           0.95     75309\n",
      "   macro avg       0.74      0.58      0.61     75309\n",
      "weighted avg       0.93      0.95      0.93     75309\n",
      "\n",
      "\n",
      "Top 10 Most Important Features:\n",
      "               Feature  Importance\n",
      "4            HadAngina    0.163353\n",
      "22                 BMI    0.133337\n",
      "21              Weight    0.115247\n",
      "20              Height    0.088344\n",
      "3           SleepHours    0.068705\n",
      "0   PhysicalHealthDays    0.054098\n",
      "1     MentalHealthDays    0.041000\n",
      "27   TetanusLast10Tdap    0.021707\n",
      "25        FluVaxLast12    0.020127\n",
      "29            CovidPos    0.019525\n"
     ]
    }
   ],
   "source": [
    "import pandas as pd\n",
    "import numpy as np\n",
    "from sklearn.model_selection import train_test_split\n",
    "from sklearn.ensemble import RandomForestClassifier\n",
    "from sklearn.metrics import accuracy_score, confusion_matrix, classification_report\n",
    "\n",
    "# Read cleaned dataset\n",
    "df = pd.read_excel(\"Cleaned_Dataset_v2.xlsx\")\n",
    "\n",
    "# Remove non-numeric columns\n",
    "df = df.select_dtypes(include=[np.number])\n",
    "\n",
    "# Define target and features\n",
    "X = df.drop(\"HadHeartAttack\", axis=1)\n",
    "y = df[\"HadHeartAttack\"]\n",
    "\n",
    "# Split data into training and testing set\n",
    "X_train, X_test, y_train, y_test = train_test_split(\n",
    "    X, y, test_size=0.3, random_state=42, stratify=y\n",
    ")\n",
    "\n",
    "# Train the model\n",
    "rf_model = RandomForestClassifier(n_estimators=100, random_state=42)\n",
    "rf_model.fit(X_train, y_train)\n",
    "\n",
    "# Predict\n",
    "y_pred_rf_model = rf_model.predict(X_test)\n",
    "\n",
    "# Calculate Performance\n",
    "acc = accuracy_score(y_test, y_pred_rf_model)\n",
    "cm = confusion_matrix(y_test, y_pred_rf_model)\n",
    "report = classification_report(y_test, y_pred_rf_model, output_dict=False)\n",
    "\n",
    "print(f\"Accuracy: {acc}\")\n",
    "print(f\"Confusion Matrix:\\n{cm}\")\n",
    "print(f\"Classification Report:\\n{report}\")\n",
    "\n",
    "# Optional: Feature importance\n",
    "feature_importance = rf_model.feature_importances_\n",
    "feature_names = X.columns\n",
    "importance_df = pd.DataFrame({\n",
    "    'Feature': feature_names,\n",
    "    'Importance': feature_importance\n",
    "}).sort_values('Importance', ascending=False)\n",
    "\n",
    "print(f\"\\nTop 10 Most Important Features:\")\n",
    "print(importance_df.head(10))"
   ]
  },
  {
   "cell_type": "code",
   "execution_count": null,
   "id": "62381f63-345c-4fef-bfd1-fedba0248c61",
   "metadata": {},
   "outputs": [],
   "source": []
  }
 ],
 "metadata": {
  "kernelspec": {
   "display_name": "Python [conda env:base] *",
   "language": "python",
   "name": "conda-base-py"
  },
  "language_info": {
   "codemirror_mode": {
    "name": "ipython",
    "version": 3
   },
   "file_extension": ".py",
   "mimetype": "text/x-python",
   "name": "python",
   "nbconvert_exporter": "python",
   "pygments_lexer": "ipython3",
   "version": "3.12.7"
  }
 },
 "nbformat": 4,
 "nbformat_minor": 5
}
