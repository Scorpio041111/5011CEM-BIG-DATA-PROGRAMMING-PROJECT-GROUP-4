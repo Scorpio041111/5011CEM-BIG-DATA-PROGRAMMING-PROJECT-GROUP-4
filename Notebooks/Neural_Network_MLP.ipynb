{
 "cells": [
  {
   "cell_type": "code",
   "execution_count": 1,
   "id": "2e543333-fd03-4408-bb6b-df48873daaa0",
   "metadata": {},
   "outputs": [],
   "source": [
    "import pandas as pd\n",
    "from sklearn.neural_network import MLPClassifier\n",
    "from sklearn.model_selection import train_test_split\n",
    "from sklearn.metrics import accuracy_score, confusion_matrix, classification_report\n",
    "import numpy as np"
   ]
  },
  {
   "cell_type": "code",
   "execution_count": 2,
   "id": "4b0c4e3b-6b67-485f-b060-98589ce9bd76",
   "metadata": {},
   "outputs": [],
   "source": [
    "# Read dataset\n",
    "df = pd.read_excel(\"Cleaned_Dataset_v2.xlsx\")"
   ]
  },
  {
   "cell_type": "code",
   "execution_count": 5,
   "id": "8aaf0882-8487-4171-8304-8b17fcda3112",
   "metadata": {},
   "outputs": [],
   "source": [
    "# View numeric columns\n",
    "df = df.select_dtypes(include=[np.number])"
   ]
  },
  {
   "cell_type": "code",
   "execution_count": 6,
   "id": "724c54bf-aaf7-4576-b4a5-93eab442f124",
   "metadata": {},
   "outputs": [],
   "source": [
    "# Set the target column name\n",
    "target_col = 'HadHeartAttack'  # target column"
   ]
  },
  {
   "cell_type": "code",
   "execution_count": 7,
   "id": "fb07eeef-599e-4a2c-995f-c9f501cf5431",
   "metadata": {},
   "outputs": [
    {
     "name": "stdout",
     "output_type": "stream",
     "text": [
      "✅ Accuracy: 0.9459958305116254\n",
      "\n",
      "📉 Confusion Matrix:\n",
      " [[69964  1222]\n",
      " [ 2845  1278]]\n",
      "\n",
      "📋 Classification Report:\n",
      "               precision    recall  f1-score   support\n",
      "\n",
      "           0       0.96      0.98      0.97     71186\n",
      "           1       0.51      0.31      0.39      4123\n",
      "\n",
      "    accuracy                           0.95     75309\n",
      "   macro avg       0.74      0.65      0.68     75309\n",
      "weighted avg       0.94      0.95      0.94     75309\n",
      "\n"
     ]
    }
   ],
   "source": [
    "# Check if target column exists\n",
    "if target_col in df.columns:\n",
    "    # Split features and target\n",
    "    X = df.drop(columns=[target_col])\n",
    "    y = df[target_col]\n",
    "\n",
    "    # Train-test split\n",
    "    X_train, X_test, y_train, y_test = train_test_split(\n",
    "        X, y, test_size=0.3, random_state=42, stratify=y\n",
    "    )\n",
    "\n",
    "    # Train the model\n",
    "    model = MLPClassifier(hidden_layer_sizes=(100,), max_iter=300, random_state=42)\n",
    "    model.fit(X_train, y_train)\n",
    "\n",
    "    # Predict\n",
    "    y_pred = model.predict(X_test)\n",
    "\n",
    "    # Evaluate\n",
    "    acc = accuracy_score(y_test, y_pred)\n",
    "    cm = confusion_matrix(y_test, y_pred)\n",
    "    report = classification_report(y_test, y_pred)\n",
    "\n",
    "    # Show results\n",
    "    print(\"✅ Accuracy:\", acc)\n",
    "    print(\"\\n📉 Confusion Matrix:\\n\", cm)\n",
    "    print(\"\\n📋 Classification Report:\\n\", report)\n",
    "else:\n",
    "    print(f\"Target column '{target_col}' not found in the DataFrame.\")"
   ]
  },
  {
   "cell_type": "code",
   "execution_count": null,
   "id": "bf0f9a8d-8ab2-49f8-ad2c-1c69bb50dcd2",
   "metadata": {},
   "outputs": [],
   "source": []
  }
 ],
 "metadata": {
  "kernelspec": {
   "display_name": "Python 3 (ipykernel)",
   "language": "python",
   "name": "python3"
  },
  "language_info": {
   "codemirror_mode": {
    "name": "ipython",
    "version": 3
   },
   "file_extension": ".py",
   "mimetype": "text/x-python",
   "name": "python",
   "nbconvert_exporter": "python",
   "pygments_lexer": "ipython3",
   "version": "3.13.5"
  }
 },
 "nbformat": 4,
 "nbformat_minor": 5
}
